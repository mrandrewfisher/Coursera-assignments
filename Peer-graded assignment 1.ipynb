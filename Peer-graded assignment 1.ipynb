{
 "cells": [
  {
   "cell_type": "markdown",
   "id": "5deb6a3d-158e-4cee-a3da-10e06ad1cdfd",
   "metadata": {},
   "source": [
    "2. The title of the this notebook is **\"Peer-graded assignment 1\"**"
   ]
  },
  {
   "cell_type": "markdown",
   "id": "ab7e12f0-fe2d-4ecd-9049-5cd799f06224",
   "metadata": {},
   "source": [
    "3. Introduction \\\n",
    "This is a jupyter notebook to demonstrate some basic functionality of python, along with a demonstration of my capability to fulfil the requested assessment criteria\n"
   ]
  },
  {
   "cell_type": "markdown",
   "id": "c4c6635c-05fe-41c0-a4fd-b8a34caac3d4",
   "metadata": {},
   "source": [
    "4. List of three data science languages:\n",
    "- Python - also a type of snake\n",
    "- R - also a letter of the alphabet\n",
    "- Scala - also a music venue in London"
   ]
  },
  {
   "cell_type": "markdown",
   "id": "e3235a31-4b79-4ce4-a8ff-d5c116b58cac",
   "metadata": {},
   "source": [
    "5. List of three data science libraries\n",
    "- Pandas\n",
    "- Matplotlib\n",
    "- Numpy"
   ]
  },
  {
   "cell_type": "markdown",
   "id": "e7a28a31-66fb-450c-9324-d7aca814d326",
   "metadata": {},
   "source": [
    "|6. Data science tools presented in a table format:|||||||\n",
    "|---|---|---|---|---|---|---|\n",
    "|Jupyter Notebooks | Excel | Hadoop | Tableau | Scikit learn | R | Power BI |"
   ]
  },
  {
   "cell_type": "markdown",
   "id": "7da4ad50-380f-4141-a46e-d62561516de2",
   "metadata": {},
   "source": [
    "7. Arithmetic expression examples \\\n",
    "   one = 1 \\\n",
    "   two = 2 \\\n",
    "   (allowing for correct data types,) python can calculate and return expressions such as \"one + two\": \\\n",
    "       print(one + two) \\\n",
    "   The next two cells will demonstrate this ability"
   ]
  },
  {
   "cell_type": "code",
   "execution_count": 51,
   "id": "a1238178-f7b2-4330-8df2-d8ed26256edc",
   "metadata": {},
   "outputs": [
    {
     "name": "stdin",
     "output_type": "stream",
     "text": [
      "Enter a number: 4\n",
      "Enter another number: 4\n"
     ]
    },
    {
     "name": "stdout",
     "output_type": "stream",
     "text": [
      "The sum of those two numbers is 8.0\n",
      "The product of those two numbers is 16.0\n"
     ]
    }
   ],
   "source": [
    "# 8. prompts user to enter two whole numbers and stores them as variables\n",
    "# these two variables are then added and multiplied with both results being printed\n",
    "a = float(input(\"Enter a number:\"))\n",
    "b = float(input(\"Enter another number:\"))\n",
    "print(\"The sum of those two numbers is\",a+b)\n",
    "print(\"The product of those two numbers is\",a*b)"
   ]
  },
  {
   "cell_type": "code",
   "execution_count": 55,
   "id": "86a3a4ee-16cb-47fd-ad07-bca8189516ae",
   "metadata": {},
   "outputs": [
    {
     "name": "stdin",
     "output_type": "stream",
     "text": [
      "Enter number of minutes: 45\n"
     ]
    },
    {
     "name": "stdout",
     "output_type": "stream",
     "text": [
      "45.0  minutes equals  0.75  hours\n"
     ]
    }
   ],
   "source": [
    "# 9. convert minutes to hours\n",
    "c = float(input(\"Enter number of minutes:\"))\n",
    "print(c,\" minutes equals \",round(c/60,2),\" hours\")"
   ]
  },
  {
   "cell_type": "markdown",
   "id": "6f82d60f-07b2-4a87-adf4-a7a37e564584",
   "metadata": {},
   "source": [
    "10. List of objectives:\n",
    "    - Complete course\n",
    "    - Create portfolio of work\n",
    "    - Become Data Scientist\n"
   ]
  },
  {
   "cell_type": "markdown",
   "id": "cfbab3dc-d941-4bc3-9f4c-8e5af3b93cf8",
   "metadata": {},
   "source": [
    "11. Author name: **Andy Fisher**"
   ]
  },
  {
   "cell_type": "code",
   "execution_count": null,
   "id": "b6e36a0b-9b30-48ec-8fc8-f1b93a7a2bc2",
   "metadata": {},
   "outputs": [],
   "source": []
  }
 ],
 "metadata": {
  "kernelspec": {
   "display_name": "Python 3 (ipykernel)",
   "language": "python",
   "name": "python3"
  },
  "language_info": {
   "codemirror_mode": {
    "name": "ipython",
    "version": 3
   },
   "file_extension": ".py",
   "mimetype": "text/x-python",
   "name": "python",
   "nbconvert_exporter": "python",
   "pygments_lexer": "ipython3",
   "version": "3.12.4"
  }
 },
 "nbformat": 4,
 "nbformat_minor": 5
}
