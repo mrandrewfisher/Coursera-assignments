{
 "cells": [
  {
   "cell_type": "markdown",
   "id": "f6990ba1-e7bb-4bcd-94c3-f58647d83150",
   "metadata": {},
   "source": [
    "# Data Science Tools and Ecosystem"
   ]
  },
  {
   "cell_type": "markdown",
   "id": "ab7e12f0-fe2d-4ecd-9049-5cd799f06224",
   "metadata": {},
   "source": [
    "### Introduction \n",
    "In this notebook, Data Science Tools and Ecosystem are summarised.\r\n",
    "\n"
   ]
  },
  {
   "cell_type": "markdown",
   "id": "c2904814-19a6-4fb9-bac2-39f09b118d54",
   "metadata": {},
   "source": [
    "### **Objectives:**\n",
    "- Create markdown cells to demonstrate the learned functionality\n",
    "- List data science languages, libraries & tools\n",
    "- Demonstrate some arithmetic calculations python is capable of\n",
    "- Share finalised notebook to GitHub and make it publicly available"
   ]
  },
  {
   "cell_type": "markdown",
   "id": "bd46a080-d8a2-4afe-b050-3011293a8da9",
   "metadata": {},
   "source": [
    "Some of the popular languages data scientists use are:\n",
    "1. Python\n",
    "2. R\n",
    "3. Scala"
   ]
  },
  {
   "cell_type": "markdown",
   "id": "e3235a31-4b79-4ce4-a8ff-d5c116b58cac",
   "metadata": {},
   "source": [
    "Some of the commonly used libraries used by Data Scientists include:\n",
    "1. Pandas\n",
    "2. Matplotlib\n",
    "3. Numpy"
   ]
  },
  {
   "cell_type": "markdown",
   "id": "e7a28a31-66fb-450c-9324-d7aca814d326",
   "metadata": {},
   "source": [
    "|Data science tools|\n",
    "|---|\n",
    "|Jupyter Notebooks|\n",
    "|Excel |\n",
    "|Hadoop |\n",
    "|Tableau |\n",
    "|Scikit learn |\n",
    "|R |\n",
    "|Power BI |"
   ]
  },
  {
   "cell_type": "markdown",
   "id": "7da4ad50-380f-4141-a46e-d62561516de2",
   "metadata": {},
   "source": [
    "### Here are a few examples of evaluating arithmetic expressions in python"
   ]
  },
  {
   "cell_type": "code",
   "execution_count": 136,
   "id": "a1238178-f7b2-4330-8df2-d8ed26256edc",
   "metadata": {},
   "outputs": [
    {
     "data": {
      "text/plain": [
       "17"
      ]
     },
     "execution_count": 136,
     "metadata": {},
     "output_type": "execute_result"
    }
   ],
   "source": [
    "# This is a simple arithmetic expression to multiply then add integers\n",
    "(3*4)+5"
   ]
  },
  {
   "cell_type": "code",
   "execution_count": 137,
   "id": "86a3a4ee-16cb-47fd-ad07-bca8189516ae",
   "metadata": {},
   "outputs": [
    {
     "data": {
      "text/plain": [
       "3"
      ]
     },
     "execution_count": 137,
     "metadata": {},
     "output_type": "execute_result"
    }
   ],
   "source": [
    "# This will convert 200 minutes to hours by dividing by 60 with no remainder\n",
    "200//60"
   ]
  },
  {
   "cell_type": "markdown",
   "id": "cfbab3dc-d941-4bc3-9f4c-8e5af3b93cf8",
   "metadata": {},
   "source": [
    "## Author: \n",
    "**Andy Fisher**"
   ]
  },
  {
   "cell_type": "code",
   "execution_count": null,
   "id": "b6e36a0b-9b30-48ec-8fc8-f1b93a7a2bc2",
   "metadata": {},
   "outputs": [],
   "source": []
  }
 ],
 "metadata": {
  "kernelspec": {
   "display_name": "Python 3 (ipykernel)",
   "language": "python",
   "name": "python3"
  },
  "language_info": {
   "codemirror_mode": {
    "name": "ipython",
    "version": 3
   },
   "file_extension": ".py",
   "mimetype": "text/x-python",
   "name": "python",
   "nbconvert_exporter": "python",
   "pygments_lexer": "ipython3",
   "version": "3.12.4"
  }
 },
 "nbformat": 4,
 "nbformat_minor": 5
}
